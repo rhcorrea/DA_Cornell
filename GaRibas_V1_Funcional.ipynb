{
  "nbformat": 4,
  "nbformat_minor": 0,
  "metadata": {
    "colab": {
      "name": "GaRibas_V1_Funcional.ipynb",
      "provenance": [],
      "authorship_tag": "ABX9TyMnlERmnEBLwyJOZNodzV7I",
      "include_colab_link": true
    },
    "kernelspec": {
      "name": "ir",
      "display_name": "R"
    }
  },
  "cells": [
    {
      "cell_type": "markdown",
      "metadata": {
        "id": "view-in-github",
        "colab_type": "text"
      },
      "source": [
        "<a href=\"https://colab.research.google.com/github/rhcorrea/DA_Cornell/blob/master/GaRibas_V1_Funcional.ipynb\" target=\"_parent\"><img src=\"https://colab.research.google.com/assets/colab-badge.svg\" alt=\"Open In Colab\"/></a>"
      ]
    },
    {
      "cell_type": "markdown",
      "metadata": {
        "id": "XSsOjeMmi7H7"
      },
      "source": [
        "#GaRibaldo - The Big Bird\n",
        "## Twitter Analyzer - Versão 1.0\n",
        "\n",
        "## Funcionalidades:\n",
        "\n",
        "\n",
        "*   Captura e alimentação de Trending Topics\n",
        "*   Contrução de representações de grafos para retweets e para contas de interesse.\n",
        "*   Alimentação do Big Query\n",
        "\n",
        "\n",
        "\n",
        "\n",
        "\n"
      ]
    },
    {
      "cell_type": "code",
      "metadata": {
        "colab": {
          "base_uri": "https://localhost:8080/"
        },
        "id": "wF1R0dwiZD45",
        "outputId": "95c8b35b-dd62-4e04-b29e-1b60283c1f04"
      },
      "source": [
        "# Instalação dos primeiros packages para R - rtweet e tidytext\n",
        "install.packages(\"rtweet\")\n",
        "#install.packages('tidytext')\n",
        "#install.packages('ggraph')\n",
        "install.packages('igraph')\n",
        "#call das libraries rtweet, ggplot2, dplyr e tidytext\n",
        "library(rtweet)\n",
        "library(ggplot2)\n",
        "library(dplyr)\n",
        "#library(tidytext)\n",
        "library(igraph)\n",
        "#library(ggraph)\n",
        "library(tidyverse)"
      ],
      "execution_count": 1,
      "outputs": [
        {
          "output_type": "stream",
          "text": [
            "Installing package into ‘/usr/local/lib/R/site-library’\n",
            "(as ‘lib’ is unspecified)\n",
            "\n",
            "Installing package into ‘/usr/local/lib/R/site-library’\n",
            "(as ‘lib’ is unspecified)\n",
            "\n",
            "\n",
            "Attaching package: ‘dplyr’\n",
            "\n",
            "\n",
            "The following objects are masked from ‘package:stats’:\n",
            "\n",
            "    filter, lag\n",
            "\n",
            "\n",
            "The following objects are masked from ‘package:base’:\n",
            "\n",
            "    intersect, setdiff, setequal, union\n",
            "\n",
            "\n",
            "\n",
            "Attaching package: ‘igraph’\n",
            "\n",
            "\n",
            "The following objects are masked from ‘package:dplyr’:\n",
            "\n",
            "    as_data_frame, groups, union\n",
            "\n",
            "\n",
            "The following objects are masked from ‘package:stats’:\n",
            "\n",
            "    decompose, spectrum\n",
            "\n",
            "\n",
            "The following object is masked from ‘package:base’:\n",
            "\n",
            "    union\n",
            "\n",
            "\n",
            "Warning message in system(\"timedatectl\", intern = TRUE):\n",
            "“running command 'timedatectl' had status 1”\n",
            "── \u001b[1mAttaching packages\u001b[22m ─────────────────────────────────────── tidyverse 1.3.0 ──\n",
            "\n",
            "\u001b[32m✔\u001b[39m \u001b[34mtibble \u001b[39m 3.1.0     \u001b[32m✔\u001b[39m \u001b[34mpurrr  \u001b[39m 0.3.4\n",
            "\u001b[32m✔\u001b[39m \u001b[34mtidyr  \u001b[39m 1.1.3     \u001b[32m✔\u001b[39m \u001b[34mstringr\u001b[39m 1.4.0\n",
            "\u001b[32m✔\u001b[39m \u001b[34mreadr  \u001b[39m 1.4.0     \u001b[32m✔\u001b[39m \u001b[34mforcats\u001b[39m 0.5.1\n",
            "\n",
            "── \u001b[1mConflicts\u001b[22m ────────────────────────────────────────── tidyverse_conflicts() ──\n",
            "\u001b[31m✖\u001b[39m \u001b[34mtibble\u001b[39m::\u001b[32mas_data_frame()\u001b[39m masks \u001b[34migraph\u001b[39m::as_data_frame(), \u001b[34mdplyr\u001b[39m::as_data_frame()\n",
            "\u001b[31m✖\u001b[39m \u001b[34mpurrr\u001b[39m::\u001b[32mcompose()\u001b[39m        masks \u001b[34migraph\u001b[39m::compose()\n",
            "\u001b[31m✖\u001b[39m \u001b[34mtidyr\u001b[39m::\u001b[32mcrossing()\u001b[39m       masks \u001b[34migraph\u001b[39m::crossing()\n",
            "\u001b[31m✖\u001b[39m \u001b[34mdplyr\u001b[39m::\u001b[32mfilter()\u001b[39m         masks \u001b[34mstats\u001b[39m::filter()\n",
            "\u001b[31m✖\u001b[39m \u001b[34mpurrr\u001b[39m::\u001b[32mflatten()\u001b[39m        masks \u001b[34mrtweet\u001b[39m::flatten()\n",
            "\u001b[31m✖\u001b[39m \u001b[34migraph\u001b[39m::\u001b[32mgroups()\u001b[39m        masks \u001b[34mdplyr\u001b[39m::groups()\n",
            "\u001b[31m✖\u001b[39m \u001b[34mdplyr\u001b[39m::\u001b[32mlag()\u001b[39m            masks \u001b[34mstats\u001b[39m::lag()\n",
            "\u001b[31m✖\u001b[39m \u001b[34mpurrr\u001b[39m::\u001b[32msimplify()\u001b[39m       masks \u001b[34migraph\u001b[39m::simplify()\n",
            "\n"
          ],
          "name": "stderr"
        }
      ]
    },
    {
      "cell_type": "code",
      "metadata": {
        "id": "p-5Ks-pzaaq9"
      },
      "source": [
        "# CHAMADA API - TROCAR , está na minha chave pessoal.\n",
        "appname <- 'Project 1'\n",
        "key <- 'ja1zn29Ahhntvu20mqswQSeBz'\n",
        "secret <- 'JRXrzwbhMClL8QA0Ncm2kr5J3ixaPfc3qz0CIuWlMIvo33SOlv'"
      ],
      "execution_count": 2,
      "outputs": []
    },
    {
      "cell_type": "code",
      "metadata": {
        "id": "aA_M_H6-cHmD"
      },
      "source": [
        "#TOKEN E SENHA API - TROCAR, está no meu pessoal.\n",
        "twitter_token <- create_token(\n",
        "  app = appname,\n",
        "  consumer_key = key,\n",
        "  consumer_secret = secret,\n",
        "  access_token = '49837963-FcQ1b7LFQZJwcfBbdsY04mvNnvtupyKdIo3nxqSMJ',\n",
        "  access_secret = 'vDcrX4ELD1JJsM1VNwRtnEOqVKUYSfSO0H74AQd2wsMuP')"
      ],
      "execution_count": 3,
      "outputs": []
    },
    {
      "cell_type": "code",
      "metadata": {
        "id": "mwWSYcSvgvCt"
      },
      "source": [
        "#Montagem trends por localidade\n",
        "sp_trends <- get_trends(lat = -23.53, lng = -46.62)\n",
        "rj_trends <- get_trends(lat = -22.90, lng = -43.19)\n",
        "bsb_trends <- get_trends(lat = -15.78, lng = -47.92)\n",
        "ssa_trends <- get_trends(lat = -12.97, lng = -38.47)\n",
        "for_trends <- get_trends(lat = -3.71, lng = -38.54)\n",
        "bhz_trends <- get_trends(lat = -19.91, lng = -43.94)\n",
        "man_trends <- get_trends(lat = -3.10, lng = -60.02)\n",
        "ctb_trends <- get_trends(lat = -25.44, lng = -49.27)\n",
        "rec_trends <- get_trends(lat = -8.05, lng = -34.90)\n",
        "gyn_trends <- get_trends(lat = -16.66, lng = -49.28)\n",
        "bel_trends <- get_trends(lat = -1.45502, lng = -48.50)\n",
        "poa_trends <- get_trends(lat = -30.02, lng = -51.22)\n",
        "gru_trends <- get_trends(lat = -23.45, lng = -46.53)\n",
        "cps_trends <- get_trends(lat = -22.90, lng = -47.06)\n",
        "slu_trends <- get_trends(lat = -2.53, lng = -44.30)\n",
        "sgo_trends <- get_trends(lat = -22.82, lng = -43.05)\n",
        "mcz_trends <- get_trends(lat = -9.66, lng = -35.73)\n",
        "duq_trends <- get_trends(lat = -22.78, lng = -43.30)\n",
        "cmp_trends <- get_trends(lat = -20.44, lng = -54.64 )\n",
        "nat_trends <- get_trends(lat = -5.79, lng = -35.20)\n",
        "ter_trends <- get_trends(lat = -5.08, lng = -42.80)\n",
        "sbc_trends <- get_trends(lat = -23.69, lng = -46.56)\n",
        "ara_trends <- get_trends(lat = -10.54, lng = -37.04)\n",
        "fpo_trends <- get_trends(lat = -27.35, lng = -48.32)\n",
        "jpe_trends <- get_trends(lat = -07.54, lng = -34.51)\n",
        "mac_trends <- get_trends(lat = 00.02, lng = -51.03)\n",
        "mcz_trends <- get_trends(lat = -09.39, lng = -35.44)\n",
        "pal_trends <- get_trends(lat = -10.12, lng = -48.21)\n",
        "pvl_trends <- get_trends(lat = -08.45, lng = -63.54)\n",
        "vix_trends <- get_trends(lat = -21.19, lng = -40.20)\n",
        "\n",
        "#Criando tabela única de trends por localidade\n",
        "all_trends <- rbind(sp_trends, rj_trends, bsb_trends, ssa_trends, for_trends, bhz_trends, man_trends, \n",
        "  ctb_trends, rec_trends, gyn_trends, bel_trends, poa_trends, gru_trends, cps_trends, slu_trends, sgo_trends, mcz_trends, duq_trends,\n",
        "  cmp_trends, nat_trends, ter_trends, sbc_trends, ara_trends, fpo_trends, jpe_trends, mac_trends, mcz_trends, pal_trends, pvl_trends, vix_trends )"
      ],
      "execution_count": 4,
      "outputs": []
    },
    {
      "cell_type": "code",
      "metadata": {
        "colab": {
          "base_uri": "https://localhost:8080/",
          "height": 128
        },
        "id": "p55ZbZ8KKuQz",
        "outputId": "d1cb234a-bad1-4876-aa0b-6ed054dd57b3"
      },
      "source": [
        "#Visualizando a tabela de all_trends\n",
        "all_trends <- all_trends[order(-all_trends$tweet_volume),]\n",
        "head(all_trends,10)"
      ],
      "execution_count": 5,
      "outputs": [
        {
          "output_type": "display_data",
          "data": {
            "text/plain": [
              "  trend  url                                promoted_content query \n",
              "1 Grammy http://twitter.com/search?q=Grammy NA               Grammy\n",
              "  tweet_volume place     woeid  as_of               created_at         \n",
              "1 476822       São Paulo 455827 2021-03-13 01:43:41 2021-03-11 07:01:12"
            ],
            "text/latex": "A tibble: 1 × 9\n\\begin{tabular}{lllllllll}\n trend & url & promoted\\_content & query & tweet\\_volume & place & woeid & as\\_of & created\\_at\\\\\n <chr> & <chr> & <lgl> & <chr> & <int> & <chr> & <int> & <dttm> & <dttm>\\\\\n\\hline\n\t Grammy & http://twitter.com/search?q=Grammy & NA & Grammy & 476822 & São Paulo & 455827 & 2021-03-13 01:43:41 & 2021-03-11 07:01:12\\\\\n\\end{tabular}\n",
            "text/markdown": "\nA tibble: 1 × 9\n\n| trend &lt;chr&gt; | url &lt;chr&gt; | promoted_content &lt;lgl&gt; | query &lt;chr&gt; | tweet_volume &lt;int&gt; | place &lt;chr&gt; | woeid &lt;int&gt; | as_of &lt;dttm&gt; | created_at &lt;dttm&gt; |\n|---|---|---|---|---|---|---|---|---|\n| Grammy | http://twitter.com/search?q=Grammy | NA | Grammy | 476822 | São Paulo | 455827 | 2021-03-13 01:43:41 | 2021-03-11 07:01:12 |\n\n",
            "text/html": [
              "<table class=\"dataframe\">\n",
              "<caption>A tibble: 1 × 9</caption>\n",
              "<thead>\n",
              "\t<tr><th scope=col>trend</th><th scope=col>url</th><th scope=col>promoted_content</th><th scope=col>query</th><th scope=col>tweet_volume</th><th scope=col>place</th><th scope=col>woeid</th><th scope=col>as_of</th><th scope=col>created_at</th></tr>\n",
              "\t<tr><th scope=col>&lt;chr&gt;</th><th scope=col>&lt;chr&gt;</th><th scope=col>&lt;lgl&gt;</th><th scope=col>&lt;chr&gt;</th><th scope=col>&lt;int&gt;</th><th scope=col>&lt;chr&gt;</th><th scope=col>&lt;int&gt;</th><th scope=col>&lt;dttm&gt;</th><th scope=col>&lt;dttm&gt;</th></tr>\n",
              "</thead>\n",
              "<tbody>\n",
              "\t<tr><td>Grammy</td><td>http://twitter.com/search?q=Grammy</td><td>NA</td><td>Grammy</td><td>476822</td><td>São Paulo</td><td>455827</td><td>2021-03-13 01:43:41</td><td>2021-03-11 07:01:12</td></tr>\n",
              "</tbody>\n",
              "</table>\n"
            ]
          },
          "metadata": {
            "tags": []
          }
        }
      ]
    },
    {
      "cell_type": "code",
      "metadata": {
        "colab": {
          "base_uri": "https://localhost:8080/",
          "height": 562
        },
        "id": "QaG_KrXrBUKB",
        "outputId": "a4bbdc6c-6d9c-4ebc-c144-a8f9ce226a3c"
      },
      "source": [
        "#Trends Brasil\n",
        "BR_trends <- get_trends(woeid = 23424768)\n",
        "BR_trends <- BR_trends[order(-BR_trends$tweet_volume),]\n",
        "head(BR_trends,15)"
      ],
      "execution_count": 6,
      "outputs": [
        {
          "output_type": "display_data",
          "data": {
            "text/plain": [
              "   trend                 \n",
              "1  Grammy                \n",
              "2  JULIETTE NOSSO ORGULHO\n",
              "3  JUNTOS COM CARTHUR    \n",
              "4  Zé Gotinha            \n",
              "5  TE AMAMOS GIL         \n",
              "6  Ivan                  \n",
              "7  #BTSxMusiCares        \n",
              "8  SUPERCORP SUPREMACY   \n",
              "9  halsey                \n",
              "10 hailey                \n",
              "11 BRASIL LOVES SHAWN    \n",
              "12 Chuck                 \n",
              "13 BANGTAN NO TOPO       \n",
              "14 #AForcaDoQuerer       \n",
              "15 WE WANT ANNE WITH AN E\n",
              "   url                                                      promoted_content\n",
              "1  http://twitter.com/search?q=Grammy                       NA              \n",
              "2  http://twitter.com/search?q=%22JULIETTE+NOSSO+ORGULHO%22 NA              \n",
              "3  http://twitter.com/search?q=%22JUNTOS+COM+CARTHUR%22     NA              \n",
              "4  http://twitter.com/search?q=%22Z%C3%A9+Gotinha%22        NA              \n",
              "5  http://twitter.com/search?q=%22TE+AMAMOS+GIL%22          NA              \n",
              "6  http://twitter.com/search?q=Ivan                         NA              \n",
              "7  http://twitter.com/search?q=%23BTSxMusiCares             NA              \n",
              "8  http://twitter.com/search?q=%22SUPERCORP+SUPREMACY%22    NA              \n",
              "9  http://twitter.com/search?q=halsey                       NA              \n",
              "10 http://twitter.com/search?q=hailey                       NA              \n",
              "11 http://twitter.com/search?q=%22BRASIL+LOVES+SHAWN%22     NA              \n",
              "12 http://twitter.com/search?q=Chuck                        NA              \n",
              "13 http://twitter.com/search?q=%22BANGTAN+NO+TOPO%22        NA              \n",
              "14 http://twitter.com/search?q=%23AForcaDoQuerer            NA              \n",
              "15 http://twitter.com/search?q=%22WE+WANT+ANNE+WITH+AN+E%22 NA              \n",
              "   query                        tweet_volume place  woeid   \n",
              "1  Grammy                       476822       Brazil 23424768\n",
              "2  %22JULIETTE+NOSSO+ORGULHO%22 134286       Brazil 23424768\n",
              "3  %22JUNTOS+COM+CARTHUR%22     128325       Brazil 23424768\n",
              "4  %22Z%C3%A9+Gotinha%22         54722       Brazil 23424768\n",
              "5  %22TE+AMAMOS+GIL%22           51514       Brazil 23424768\n",
              "6  Ivan                          49921       Brazil 23424768\n",
              "7  %23BTSxMusiCares              41891       Brazil 23424768\n",
              "8  %22SUPERCORP+SUPREMACY%22     29806       Brazil 23424768\n",
              "9  halsey                        28727       Brazil 23424768\n",
              "10 hailey                        27900       Brazil 23424768\n",
              "11 %22BRASIL+LOVES+SHAWN%22      27378       Brazil 23424768\n",
              "12 Chuck                         25431       Brazil 23424768\n",
              "13 %22BANGTAN+NO+TOPO%22         23441       Brazil 23424768\n",
              "14 %23AForcaDoQuerer             19856       Brazil 23424768\n",
              "15 %22WE+WANT+ANNE+WITH+AN+E%22  17896       Brazil 23424768\n",
              "   as_of               created_at         \n",
              "1  2021-03-13 01:43:50 2021-03-12 14:00:01\n",
              "2  2021-03-13 01:43:50 2021-03-12 14:00:01\n",
              "3  2021-03-13 01:43:50 2021-03-12 14:00:01\n",
              "4  2021-03-13 01:43:50 2021-03-12 14:00:01\n",
              "5  2021-03-13 01:43:50 2021-03-12 14:00:01\n",
              "6  2021-03-13 01:43:50 2021-03-12 14:00:01\n",
              "7  2021-03-13 01:43:50 2021-03-12 14:00:01\n",
              "8  2021-03-13 01:43:50 2021-03-12 14:00:01\n",
              "9  2021-03-13 01:43:50 2021-03-12 14:00:01\n",
              "10 2021-03-13 01:43:50 2021-03-12 14:00:01\n",
              "11 2021-03-13 01:43:50 2021-03-12 14:00:01\n",
              "12 2021-03-13 01:43:50 2021-03-12 14:00:01\n",
              "13 2021-03-13 01:43:50 2021-03-12 14:00:01\n",
              "14 2021-03-13 01:43:50 2021-03-12 14:00:01\n",
              "15 2021-03-13 01:43:50 2021-03-12 14:00:01"
            ],
            "text/latex": "A tibble: 15 × 9\n\\begin{tabular}{lllllllll}\n trend & url & promoted\\_content & query & tweet\\_volume & place & woeid & as\\_of & created\\_at\\\\\n <chr> & <chr> & <lgl> & <chr> & <int> & <chr> & <int> & <dttm> & <dttm>\\\\\n\\hline\n\t Grammy                 & http://twitter.com/search?q=Grammy                       & NA & Grammy                       & 476822 & Brazil & 23424768 & 2021-03-13 01:43:50 & 2021-03-12 14:00:01\\\\\n\t JULIETTE NOSSO ORGULHO & http://twitter.com/search?q=\\%22JULIETTE+NOSSO+ORGULHO\\%22 & NA & \\%22JULIETTE+NOSSO+ORGULHO\\%22 & 134286 & Brazil & 23424768 & 2021-03-13 01:43:50 & 2021-03-12 14:00:01\\\\\n\t JUNTOS COM CARTHUR     & http://twitter.com/search?q=\\%22JUNTOS+COM+CARTHUR\\%22     & NA & \\%22JUNTOS+COM+CARTHUR\\%22     & 128325 & Brazil & 23424768 & 2021-03-13 01:43:50 & 2021-03-12 14:00:01\\\\\n\t Zé Gotinha             & http://twitter.com/search?q=\\%22Z\\%C3\\%A9+Gotinha\\%22        & NA & \\%22Z\\%C3\\%A9+Gotinha\\%22        &  54722 & Brazil & 23424768 & 2021-03-13 01:43:50 & 2021-03-12 14:00:01\\\\\n\t TE AMAMOS GIL          & http://twitter.com/search?q=\\%22TE+AMAMOS+GIL\\%22          & NA & \\%22TE+AMAMOS+GIL\\%22          &  51514 & Brazil & 23424768 & 2021-03-13 01:43:50 & 2021-03-12 14:00:01\\\\\n\t Ivan                   & http://twitter.com/search?q=Ivan                         & NA & Ivan                         &  49921 & Brazil & 23424768 & 2021-03-13 01:43:50 & 2021-03-12 14:00:01\\\\\n\t \\#BTSxMusiCares         & http://twitter.com/search?q=\\%23BTSxMusiCares             & NA & \\%23BTSxMusiCares             &  41891 & Brazil & 23424768 & 2021-03-13 01:43:50 & 2021-03-12 14:00:01\\\\\n\t SUPERCORP SUPREMACY    & http://twitter.com/search?q=\\%22SUPERCORP+SUPREMACY\\%22    & NA & \\%22SUPERCORP+SUPREMACY\\%22    &  29806 & Brazil & 23424768 & 2021-03-13 01:43:50 & 2021-03-12 14:00:01\\\\\n\t halsey                 & http://twitter.com/search?q=halsey                       & NA & halsey                       &  28727 & Brazil & 23424768 & 2021-03-13 01:43:50 & 2021-03-12 14:00:01\\\\\n\t hailey                 & http://twitter.com/search?q=hailey                       & NA & hailey                       &  27900 & Brazil & 23424768 & 2021-03-13 01:43:50 & 2021-03-12 14:00:01\\\\\n\t BRASIL LOVES SHAWN     & http://twitter.com/search?q=\\%22BRASIL+LOVES+SHAWN\\%22     & NA & \\%22BRASIL+LOVES+SHAWN\\%22     &  27378 & Brazil & 23424768 & 2021-03-13 01:43:50 & 2021-03-12 14:00:01\\\\\n\t Chuck                  & http://twitter.com/search?q=Chuck                        & NA & Chuck                        &  25431 & Brazil & 23424768 & 2021-03-13 01:43:50 & 2021-03-12 14:00:01\\\\\n\t BANGTAN NO TOPO        & http://twitter.com/search?q=\\%22BANGTAN+NO+TOPO\\%22        & NA & \\%22BANGTAN+NO+TOPO\\%22        &  23441 & Brazil & 23424768 & 2021-03-13 01:43:50 & 2021-03-12 14:00:01\\\\\n\t \\#AForcaDoQuerer        & http://twitter.com/search?q=\\%23AForcaDoQuerer            & NA & \\%23AForcaDoQuerer            &  19856 & Brazil & 23424768 & 2021-03-13 01:43:50 & 2021-03-12 14:00:01\\\\\n\t WE WANT ANNE WITH AN E & http://twitter.com/search?q=\\%22WE+WANT+ANNE+WITH+AN+E\\%22 & NA & \\%22WE+WANT+ANNE+WITH+AN+E\\%22 &  17896 & Brazil & 23424768 & 2021-03-13 01:43:50 & 2021-03-12 14:00:01\\\\\n\\end{tabular}\n",
            "text/markdown": "\nA tibble: 15 × 9\n\n| trend &lt;chr&gt; | url &lt;chr&gt; | promoted_content &lt;lgl&gt; | query &lt;chr&gt; | tweet_volume &lt;int&gt; | place &lt;chr&gt; | woeid &lt;int&gt; | as_of &lt;dttm&gt; | created_at &lt;dttm&gt; |\n|---|---|---|---|---|---|---|---|---|\n| Grammy                 | http://twitter.com/search?q=Grammy                       | NA | Grammy                       | 476822 | Brazil | 23424768 | 2021-03-13 01:43:50 | 2021-03-12 14:00:01 |\n| JULIETTE NOSSO ORGULHO | http://twitter.com/search?q=%22JULIETTE+NOSSO+ORGULHO%22 | NA | %22JULIETTE+NOSSO+ORGULHO%22 | 134286 | Brazil | 23424768 | 2021-03-13 01:43:50 | 2021-03-12 14:00:01 |\n| JUNTOS COM CARTHUR     | http://twitter.com/search?q=%22JUNTOS+COM+CARTHUR%22     | NA | %22JUNTOS+COM+CARTHUR%22     | 128325 | Brazil | 23424768 | 2021-03-13 01:43:50 | 2021-03-12 14:00:01 |\n| Zé Gotinha             | http://twitter.com/search?q=%22Z%C3%A9+Gotinha%22        | NA | %22Z%C3%A9+Gotinha%22        |  54722 | Brazil | 23424768 | 2021-03-13 01:43:50 | 2021-03-12 14:00:01 |\n| TE AMAMOS GIL          | http://twitter.com/search?q=%22TE+AMAMOS+GIL%22          | NA | %22TE+AMAMOS+GIL%22          |  51514 | Brazil | 23424768 | 2021-03-13 01:43:50 | 2021-03-12 14:00:01 |\n| Ivan                   | http://twitter.com/search?q=Ivan                         | NA | Ivan                         |  49921 | Brazil | 23424768 | 2021-03-13 01:43:50 | 2021-03-12 14:00:01 |\n| #BTSxMusiCares         | http://twitter.com/search?q=%23BTSxMusiCares             | NA | %23BTSxMusiCares             |  41891 | Brazil | 23424768 | 2021-03-13 01:43:50 | 2021-03-12 14:00:01 |\n| SUPERCORP SUPREMACY    | http://twitter.com/search?q=%22SUPERCORP+SUPREMACY%22    | NA | %22SUPERCORP+SUPREMACY%22    |  29806 | Brazil | 23424768 | 2021-03-13 01:43:50 | 2021-03-12 14:00:01 |\n| halsey                 | http://twitter.com/search?q=halsey                       | NA | halsey                       |  28727 | Brazil | 23424768 | 2021-03-13 01:43:50 | 2021-03-12 14:00:01 |\n| hailey                 | http://twitter.com/search?q=hailey                       | NA | hailey                       |  27900 | Brazil | 23424768 | 2021-03-13 01:43:50 | 2021-03-12 14:00:01 |\n| BRASIL LOVES SHAWN     | http://twitter.com/search?q=%22BRASIL+LOVES+SHAWN%22     | NA | %22BRASIL+LOVES+SHAWN%22     |  27378 | Brazil | 23424768 | 2021-03-13 01:43:50 | 2021-03-12 14:00:01 |\n| Chuck                  | http://twitter.com/search?q=Chuck                        | NA | Chuck                        |  25431 | Brazil | 23424768 | 2021-03-13 01:43:50 | 2021-03-12 14:00:01 |\n| BANGTAN NO TOPO        | http://twitter.com/search?q=%22BANGTAN+NO+TOPO%22        | NA | %22BANGTAN+NO+TOPO%22        |  23441 | Brazil | 23424768 | 2021-03-13 01:43:50 | 2021-03-12 14:00:01 |\n| #AForcaDoQuerer        | http://twitter.com/search?q=%23AForcaDoQuerer            | NA | %23AForcaDoQuerer            |  19856 | Brazil | 23424768 | 2021-03-13 01:43:50 | 2021-03-12 14:00:01 |\n| WE WANT ANNE WITH AN E | http://twitter.com/search?q=%22WE+WANT+ANNE+WITH+AN+E%22 | NA | %22WE+WANT+ANNE+WITH+AN+E%22 |  17896 | Brazil | 23424768 | 2021-03-13 01:43:50 | 2021-03-12 14:00:01 |\n\n",
            "text/html": [
              "<table class=\"dataframe\">\n",
              "<caption>A tibble: 15 × 9</caption>\n",
              "<thead>\n",
              "\t<tr><th scope=col>trend</th><th scope=col>url</th><th scope=col>promoted_content</th><th scope=col>query</th><th scope=col>tweet_volume</th><th scope=col>place</th><th scope=col>woeid</th><th scope=col>as_of</th><th scope=col>created_at</th></tr>\n",
              "\t<tr><th scope=col>&lt;chr&gt;</th><th scope=col>&lt;chr&gt;</th><th scope=col>&lt;lgl&gt;</th><th scope=col>&lt;chr&gt;</th><th scope=col>&lt;int&gt;</th><th scope=col>&lt;chr&gt;</th><th scope=col>&lt;int&gt;</th><th scope=col>&lt;dttm&gt;</th><th scope=col>&lt;dttm&gt;</th></tr>\n",
              "</thead>\n",
              "<tbody>\n",
              "\t<tr><td>Grammy                </td><td>http://twitter.com/search?q=Grammy                      </td><td>NA</td><td>Grammy                      </td><td>476822</td><td>Brazil</td><td>23424768</td><td>2021-03-13 01:43:50</td><td>2021-03-12 14:00:01</td></tr>\n",
              "\t<tr><td>JULIETTE NOSSO ORGULHO</td><td>http://twitter.com/search?q=%22JULIETTE+NOSSO+ORGULHO%22</td><td>NA</td><td>%22JULIETTE+NOSSO+ORGULHO%22</td><td>134286</td><td>Brazil</td><td>23424768</td><td>2021-03-13 01:43:50</td><td>2021-03-12 14:00:01</td></tr>\n",
              "\t<tr><td>JUNTOS COM CARTHUR    </td><td>http://twitter.com/search?q=%22JUNTOS+COM+CARTHUR%22    </td><td>NA</td><td>%22JUNTOS+COM+CARTHUR%22    </td><td>128325</td><td>Brazil</td><td>23424768</td><td>2021-03-13 01:43:50</td><td>2021-03-12 14:00:01</td></tr>\n",
              "\t<tr><td>Zé Gotinha            </td><td>http://twitter.com/search?q=%22Z%C3%A9+Gotinha%22       </td><td>NA</td><td>%22Z%C3%A9+Gotinha%22       </td><td> 54722</td><td>Brazil</td><td>23424768</td><td>2021-03-13 01:43:50</td><td>2021-03-12 14:00:01</td></tr>\n",
              "\t<tr><td>TE AMAMOS GIL         </td><td>http://twitter.com/search?q=%22TE+AMAMOS+GIL%22         </td><td>NA</td><td>%22TE+AMAMOS+GIL%22         </td><td> 51514</td><td>Brazil</td><td>23424768</td><td>2021-03-13 01:43:50</td><td>2021-03-12 14:00:01</td></tr>\n",
              "\t<tr><td>Ivan                  </td><td>http://twitter.com/search?q=Ivan                        </td><td>NA</td><td>Ivan                        </td><td> 49921</td><td>Brazil</td><td>23424768</td><td>2021-03-13 01:43:50</td><td>2021-03-12 14:00:01</td></tr>\n",
              "\t<tr><td>#BTSxMusiCares        </td><td>http://twitter.com/search?q=%23BTSxMusiCares            </td><td>NA</td><td>%23BTSxMusiCares            </td><td> 41891</td><td>Brazil</td><td>23424768</td><td>2021-03-13 01:43:50</td><td>2021-03-12 14:00:01</td></tr>\n",
              "\t<tr><td>SUPERCORP SUPREMACY   </td><td>http://twitter.com/search?q=%22SUPERCORP+SUPREMACY%22   </td><td>NA</td><td>%22SUPERCORP+SUPREMACY%22   </td><td> 29806</td><td>Brazil</td><td>23424768</td><td>2021-03-13 01:43:50</td><td>2021-03-12 14:00:01</td></tr>\n",
              "\t<tr><td>halsey                </td><td>http://twitter.com/search?q=halsey                      </td><td>NA</td><td>halsey                      </td><td> 28727</td><td>Brazil</td><td>23424768</td><td>2021-03-13 01:43:50</td><td>2021-03-12 14:00:01</td></tr>\n",
              "\t<tr><td>hailey                </td><td>http://twitter.com/search?q=hailey                      </td><td>NA</td><td>hailey                      </td><td> 27900</td><td>Brazil</td><td>23424768</td><td>2021-03-13 01:43:50</td><td>2021-03-12 14:00:01</td></tr>\n",
              "\t<tr><td>BRASIL LOVES SHAWN    </td><td>http://twitter.com/search?q=%22BRASIL+LOVES+SHAWN%22    </td><td>NA</td><td>%22BRASIL+LOVES+SHAWN%22    </td><td> 27378</td><td>Brazil</td><td>23424768</td><td>2021-03-13 01:43:50</td><td>2021-03-12 14:00:01</td></tr>\n",
              "\t<tr><td>Chuck                 </td><td>http://twitter.com/search?q=Chuck                       </td><td>NA</td><td>Chuck                       </td><td> 25431</td><td>Brazil</td><td>23424768</td><td>2021-03-13 01:43:50</td><td>2021-03-12 14:00:01</td></tr>\n",
              "\t<tr><td>BANGTAN NO TOPO       </td><td>http://twitter.com/search?q=%22BANGTAN+NO+TOPO%22       </td><td>NA</td><td>%22BANGTAN+NO+TOPO%22       </td><td> 23441</td><td>Brazil</td><td>23424768</td><td>2021-03-13 01:43:50</td><td>2021-03-12 14:00:01</td></tr>\n",
              "\t<tr><td>#AForcaDoQuerer       </td><td>http://twitter.com/search?q=%23AForcaDoQuerer           </td><td>NA</td><td>%23AForcaDoQuerer           </td><td> 19856</td><td>Brazil</td><td>23424768</td><td>2021-03-13 01:43:50</td><td>2021-03-12 14:00:01</td></tr>\n",
              "\t<tr><td>WE WANT ANNE WITH AN E</td><td>http://twitter.com/search?q=%22WE+WANT+ANNE+WITH+AN+E%22</td><td>NA</td><td>%22WE+WANT+ANNE+WITH+AN+E%22</td><td> 17896</td><td>Brazil</td><td>23424768</td><td>2021-03-13 01:43:50</td><td>2021-03-12 14:00:01</td></tr>\n",
              "</tbody>\n",
              "</table>\n"
            ]
          },
          "metadata": {
            "tags": []
          }
        }
      ]
    },
    {
      "cell_type": "code",
      "metadata": {
        "id": "Lz7AxSPSRISy"
      },
      "source": [
        "#Criando os objetos para explorar os primeiros 15 trending topics\n",
        "trend_topic1 <- BR_trends$trend[1]\n",
        "trend_topic2 <- BR_trends$trend[2]\n",
        "trend_topic3 <- BR_trends$trend[3]\n",
        "trend_topic4 <- BR_trends$trend[4]\n",
        "trend_topic5 <- BR_trends$trend[5]\n",
        "trend_topic6 <- BR_trends$trend[6]\n",
        "trend_topic7 <- BR_trends$trend[7]\n",
        "trend_topic8 <- BR_trends$trend[8]\n",
        "trend_topic9 <- BR_trends$trend[9]\n",
        "trend_topic10 <- BR_trends$trend[10]\n",
        "trend_topic11 <- BR_trends$trend[11]\n",
        "trend_topic12 <- BR_trends$trend[12]\n",
        "trend_topic13 <- BR_trends$trend[13]\n",
        "trend_topic14 <- BR_trends$trend[14]\n",
        "trend_topic15 <- BR_trends$trend[15]"
      ],
      "execution_count": 7,
      "outputs": []
    },
    {
      "cell_type": "code",
      "metadata": {
        "colab": {
          "base_uri": "https://localhost:8080/",
          "height": 34
        },
        "id": "zW228zNx2yzk",
        "outputId": "ed29e48d-d166-4a51-a9aa-4a528d15f58c"
      },
      "source": [
        ""
      ],
      "execution_count": 8,
      "outputs": [
        {
          "output_type": "display_data",
          "data": {
            "text/plain": [
              "[1] \"#BTSxMusiCares\""
            ],
            "text/latex": "'\\#BTSxMusiCares'",
            "text/markdown": "'#BTSxMusiCares'",
            "text/html": [
              "'#BTSxMusiCares'"
            ]
          },
          "metadata": {
            "tags": []
          }
        }
      ]
    },
    {
      "cell_type": "code",
      "metadata": {
        "id": "nTMeExQp4EnD",
        "colab": {
          "base_uri": "https://localhost:8080/"
        },
        "outputId": "900051df-38da-4840-d4f6-89f8d386e3ee"
      },
      "source": [
        "#Capturando 100 tweets de cada um dos trending topics.\n",
        "#Reduzido para os 5 primeiros por sobrecarga na chave de API\n",
        "Topic1 <- search_tweets(trend_topic1, n= 100, retryonratelimit = TRUE)\n",
        "Topic1$Topic <- trend_topic1\n",
        "Topic2 <- search_tweets(trend_topic2, n= 100, retryonratelimit = TRUE)\n",
        "Topic2$Topic <- trend_topic2\n",
        "Topic3 <- search_tweets(trend_topic3, n= 100, retryonratelimit = TRUE)\n",
        "Topic3$Topic <- trend_topic3\n",
        "Topic4 <- search_tweets(trend_topic4, n= 100, retryonratelimit = TRUE)\n",
        "Topic4$Topic <- trend_topic4\n",
        "Topic5 <- search_tweets(trend_topic5, n= 100, retryonratelimit = TRUE)\n",
        "Topic5$Topic <- trend_topic5\n",
        "#Topic6 <- search_tweets(c(trend_topic6), n= 100, retryonratelimit = TRUE)\n",
        "#Topic6$Topic <- trend_topic6\n",
        "#Topic7 <- search_tweets(c(trend_topic7), n= 100, retryonratelimit = TRUE)\n",
        "#Topic7$Topic <- trend_topic7\n",
        "#Topic8 <- search_tweets(c(trend_topic8), n= 100, retryonratelimit = TRUE)\n",
        "#Topic8$Topic <- trend_topic8\n",
        "#Topic9 <- search_tweets(c(trend_topic9), n= 100, retryonratelimit = TRUE)\n",
        "#Topic9$Topic <- trend_topic9\n",
        "#Topic10 <- search_tweets(c(trend_topic10), n= 100, retryonratelimit = TRUE)\n",
        "#Topic10$Topic <- trend_topic10\n",
        "#Topic11 <- search_tweets(c(trend_topic11), n= 100, retryonratelimit = TRUE)\n",
        "#Topic11$Topic <- trend_topic11\n",
        "#Topic12 <- search_tweets(c(trend_topic12), n= 100, retryonratelimit = TRUE)\n",
        "#Topic12$Topic <- trend_topic12\n",
        "#Topic13 <- search_tweets(c(trend_topic13), n= 100, retryonratelimit = TRUE)\n",
        "#Topic13$Topic <- trend_topic13\n",
        "#Topic14 <- search_tweets(c(trend_topic14), n= 100, retryonratelimit = TRUE)\n",
        "#Topic14$Topic <- trend_topic14\n",
        "#Topic15 <- search_tweets(c(trend_topic15), n= 100, retryonratelimit = TRUE)\n",
        "#Topic15$Topic <- trend_topic15"
      ],
      "execution_count": 9,
      "outputs": [
        {
          "output_type": "stream",
          "text": [
            "retry on rate limit...\n",
            "waiting about 10 minutes...\n",
            "\n",
            "retry on rate limit...\n",
            "waiting about 13 minutes...\n",
            "\n",
            "retry on rate limit...\n",
            "waiting about 14 minutes...\n",
            "\n",
            "retry on rate limit...\n",
            "waiting about 13 minutes...\n",
            "\n"
          ],
          "name": "stderr"
        }
      ]
    },
    {
      "cell_type": "code",
      "metadata": {
        "id": "_J103HEQ_uCM"
      },
      "source": [
        "#Juntando os principais trending topics.\n",
        "All_TTs <- rbind(Topic1, Topic2, Topic3, Topic4, Topic5)"
      ],
      "execution_count": 11,
      "outputs": []
    },
    {
      "cell_type": "code",
      "metadata": {
        "id": "NVeFNPMTSfL2"
      },
      "source": [
        "#Criando o objeto grafo para visualizar retweets\n",
        "filter(Topic1, retweet_count > 0) %>% \n",
        "  select(screen_name, mentions_screen_name) %>%\n",
        "  unnest(mentions_screen_name) %>% \n",
        "  filter(!is.na(mentions_screen_name)) %>% \n",
        "  graph_from_data_frame() -> rt_g"
      ],
      "execution_count": 14,
      "outputs": []
    },
    {
      "cell_type": "code",
      "metadata": {
        "id": "hE_teDh7YNfJ",
        "colab": {
          "base_uri": "https://localhost:8080/",
          "height": 221
        },
        "outputId": "0bf3f096-c1f7-443f-d18b-5a9f038fc154"
      },
      "source": [
        "#verificando o objeto\n",
        "rt_g"
      ],
      "execution_count": 15,
      "outputs": [
        {
          "output_type": "display_data",
          "data": {
            "text/plain": [
              "IGRAPH 2cbd36c DN-- 1986 2461 -- \n",
              "+ attr: name (v/c)\n",
              "+ edges from 2cbd36c (vertex names):\n",
              " [1] Viri04370750   ->BTS_BangtanNews hobivtr        ->flyyseokjin    \n",
              " [3] vanilleskye    ->JENNIEKOOS      gigi_crepaldi  ->stylesgoldwn   \n",
              " [5] Milagros_1405  ->camixtbsl_      danii_tata     ->Hanggsang      \n",
              " [7] taetaebae123095->vantestaegi     armyzol        ->doolsetbangtan \n",
              " [9] ARGOTMON7      ->BangBangtanEsp_ ARGOTMON7      ->BTS_twt        \n",
              "[11] vvggukkk       ->hollahalipah28  JKEYonlyARMY   ->zarahimedrano77\n",
              "[13] Jkathyarmy     ->_candyclover    Jkathyarmy     ->BTS_twt        \n",
              "[15] Jkathyarmy     ->emesspace       mini_ktae      ->BeautifulSoulB7\n",
              "+ ... omitted several edges"
            ]
          },
          "metadata": {
            "tags": []
          }
        }
      ]
    },
    {
      "cell_type": "code",
      "metadata": {
        "id": "rpPdBmCTSlpa"
      },
      "source": [
        "#Simplificando o label de cada nó por relevancia.\n",
        "V(rt_g)$node_label <- unname(ifelse(degree(rt_g)[V(rt_g)] > 50, names(V(rt_g)), \"\")) \n",
        "V(rt_g)$node_size <- unname(ifelse(degree(rt_g)[V(rt_g)] > 50, degree(rt_g), 0)) "
      ],
      "execution_count": 16,
      "outputs": []
    },
    {
      "cell_type": "code",
      "metadata": {
        "id": "xGwhppcuTusE"
      },
      "source": [
        ""
      ],
      "execution_count": 19,
      "outputs": []
    },
    {
      "cell_type": "code",
      "metadata": {
        "id": "jg-bt3XOT3p7"
      },
      "source": [
        "#ggplot(tibble(y=degree_distribution(rt_g), x=1:length(y))) +\n",
        "#  geom_segment(aes(x, y, xend=x, yend=0), color=\"slateblue\") +\n",
        "#  scale_y_continuous(expand=c(0,0), trans=\"sqrt\") +\n",
        "#  labs(x=\"Degree\", y=\"Density (sqrt scale)\", title=\"#rstats Retweet Degree Distribution\")"
      ],
      "execution_count": 20,
      "outputs": []
    },
    {
      "cell_type": "code",
      "metadata": {
        "id": "wAvcMKMexINn"
      },
      "source": [
        ""
      ],
      "execution_count": null,
      "outputs": []
    },
    {
      "cell_type": "markdown",
      "metadata": {
        "id": "NcRjUMSkxHkP"
      },
      "source": [
        ""
      ]
    },
    {
      "cell_type": "code",
      "metadata": {
        "id": "xHqgFPQ7SoQ6"
      },
      "source": [
        "#ggraph(rt_g, layout = 'linear', circular = FALSE) + \n",
        "#  geom_edge_arc(edge_width=0.125, aes(alpha=..index..)) +\n",
        "#  geom_node_label(aes(label=node_label, size=node_size*5),\n",
        "#                 label.size=0, fill=\"#ffffff66\", segment.colour=\"springgreen\",\n",
        "#                  color=\"slateblue\", repel=TRUE, fontface=\"bold\") +\n",
        "#  coord_fixed() +\n",
        "#  scale_size_area(trans=\"sqrt\") +\n",
        "#  labs(title=\"Retweet Relationships\", subtitle=\"Most retweeted screen names labeled. Darkers edges == more retweets. Node size == larger degree\") + theme(legend.position=\"none\")"
      ],
      "execution_count": 21,
      "outputs": []
    },
    {
      "cell_type": "code",
      "metadata": {
        "id": "bwk69dV1zpyF"
      },
      "source": [
        "#datena <- lookup_users('datenaoficial')\n",
        "# get Datena's followers and its account details\n",
        "#folower <- get_followers(\"datenaoficial\",n = 75000,retryonratelimit = T)\n",
        "#detail_followers <- lookup_users(folower$user_id)\n",
        "#detail_followers <- data.frame(lapply(detail_followers,as.character),\n",
        "#stringsAsFactors = F)\n"
      ],
      "execution_count": 22,
      "outputs": []
    },
    {
      "cell_type": "code",
      "metadata": {
        "id": "zdILAUrw6CEg"
      },
      "source": [
        "#detail_followers"
      ],
      "execution_count": 23,
      "outputs": []
    }
  ]
}